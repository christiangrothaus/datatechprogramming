{
 "cells": [
  {
   "cell_type": "markdown",
   "metadata": {},
   "source": [
    "(Regular Expressions: Locating URLs) Use a regular expression to search through a string and to locate all valid URLs. For this exercise, assume that a valid URL has the form http://www.domain_name.extension, where extension must be two or more characters."
   ]
  },
  {
   "cell_type": "code",
   "execution_count": 10,
   "metadata": {},
   "outputs": [
    {
     "data": {
      "text/plain": [
       "['http://www.google.com',\n",
       " 'http://www.domain_name.extension',\n",
       " 'http://www.somedomain.py']"
      ]
     },
     "execution_count": 10,
     "metadata": {},
     "output_type": "execute_result"
    }
   ],
   "source": [
    "import re\n",
    "\n",
    "string = 'eget http://www.google.com http://www.google.c magna fermentum http://www.domain_name.extension iaculis eu non diam http://www.somedomain.py phasellus vestibulum lorem'\n",
    "\n",
    "re.findall('(?:http:\\/\\/www.)(?:[A-z]*)(?:\\.[A-z]{2,})', string)"
   ]
  }
 ],
 "metadata": {
  "kernelspec": {
   "display_name": "DataTechProgramming",
   "language": "python",
   "name": "python3"
  },
  "language_info": {
   "codemirror_mode": {
    "name": "ipython",
    "version": 3
   },
   "file_extension": ".py",
   "mimetype": "text/x-python",
   "name": "python",
   "nbconvert_exporter": "python",
   "pygments_lexer": "ipython3",
   "version": "3.11.4"
  },
  "orig_nbformat": 4
 },
 "nbformat": 4,
 "nbformat_minor": 2
}
