{
 "cells": [
  {
   "cell_type": "code",
   "execution_count": 50,
   "metadata": {},
   "outputs": [],
   "source": [
    "import re\n",
    "\n",
    "passwords = ['abc123', 'seCuRePassword!28', 'some_password-that.Is,secure word', 'another-password for.part,one', 'not_enough-words', 'some_Password-that.Is,as1!', 'validPart2Password!']"
   ]
  },
  {
   "cell_type": "markdown",
   "metadata": {},
   "source": [
    "(Regular Expression: Password Format Validator) Search online for secure password recommendations, then research existing regular expressions that validate secure passwords. Two examples of password requirements are:"
   ]
  },
  {
   "cell_type": "markdown",
   "metadata": {},
   "source": [
    "- Passwords must contain at least five words, each separated by a hyphen, a space, a period, a comma or an underscore."
   ]
  },
  {
   "cell_type": "code",
   "execution_count": 51,
   "metadata": {},
   "outputs": [
    {
     "name": "stdout",
     "output_type": "stream",
     "text": [
      "some_password-that.Is,secure word\n",
      "another-password for.part,one\n",
      "some_Password-that.Is,as1!\n"
     ]
    }
   ],
   "source": [
    "for password in passwords:\n",
    "  match = re.match(r'^(?:[a-zA-Z0-9]+[-_.,\\s]){4,}[a-zA-Z0-9].*$', password)\n",
    "  if match:\n",
    "    print(match.group())"
   ]
  },
  {
   "cell_type": "markdown",
   "metadata": {},
   "source": [
    "- Passwords must have a minimum of 8 characters and contain at least one each from uppercase characters, lowercase characters, digits and punctuation characters (such as characters in '!@#$%<^>&*?')."
   ]
  },
  {
   "cell_type": "code",
   "execution_count": 52,
   "metadata": {},
   "outputs": [
    {
     "name": "stdout",
     "output_type": "stream",
     "text": [
      "some_Password-that.Is,as1!\n",
      "validPart2Password!\n"
     ]
    }
   ],
   "source": [
    "for password in passwords:\n",
    "  match = re.match(r'(?:.*[a-z])(?:.*[A-Z])(?:.*[\\d])(?:.*[!@#$%<^>&*?]).*$', password)\n",
    "  if match:\n",
    "    print(match.group())"
   ]
  },
  {
   "cell_type": "markdown",
   "metadata": {},
   "source": [
    "Write regular expressions for each of the two requirements above, then use them to test sample passwords."
   ]
  }
 ],
 "metadata": {
  "kernelspec": {
   "display_name": "DataTechProgramming",
   "language": "python",
   "name": "python3"
  },
  "language_info": {
   "codemirror_mode": {
    "name": "ipython",
    "version": 3
   },
   "file_extension": ".py",
   "mimetype": "text/x-python",
   "name": "python",
   "nbconvert_exporter": "python",
   "pygments_lexer": "ipython3",
   "version": "3.11.4"
  },
  "orig_nbformat": 4
 },
 "nbformat": 4,
 "nbformat_minor": 2
}
