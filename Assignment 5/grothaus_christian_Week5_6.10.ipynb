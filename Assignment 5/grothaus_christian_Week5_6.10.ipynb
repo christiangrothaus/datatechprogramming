{
 "cells": [
  {
   "cell_type": "code",
   "execution_count": 4,
   "metadata": {},
   "outputs": [],
   "source": [
    "setA = { 'red', 'green', 'blue' }\n",
    "setB = { 'cyan', 'green', 'blue', 'magenta', 'red' }"
   ]
  },
  {
   "cell_type": "markdown",
   "metadata": {},
   "source": [
    "a. comparing the sets using the each of the comparison operators."
   ]
  },
  {
   "cell_type": "code",
   "execution_count": 6,
   "metadata": {},
   "outputs": [
    {
     "name": "stdout",
     "output_type": "stream",
     "text": [
      "False\n",
      "True\n",
      "True\n",
      "True\n",
      "True\n",
      "False\n",
      "False\n",
      "False\n"
     ]
    }
   ],
   "source": [
    "print(setA == setB)\n",
    "print(setA != setB)\n",
    "print(setA < setB)\n",
    "print(setA <= setB)\n",
    "print(setA.issubset(setB))\n",
    "print(setA > setB)\n",
    "print(setA >= setB)\n",
    "print(setA.issuperset(setB))"
   ]
  },
  {
   "cell_type": "markdown",
   "metadata": {},
   "source": [
    "b. combining the sets using each of the mathematical set operators."
   ]
  },
  {
   "cell_type": "code",
   "execution_count": 13,
   "metadata": {},
   "outputs": [
    {
     "name": "stdout",
     "output_type": "stream",
     "text": [
      "{'red', 'magenta', 'green', 'blue', 'cyan'}\n",
      "{'red', 'magenta', 'green', 'blue', 'cyan'}\n",
      "{'green', 'blue', 'red'}\n",
      "{'green', 'blue', 'red'}\n",
      "set()\n",
      "set()\n",
      "{'magenta', 'cyan'}\n",
      "{'magenta', 'cyan'}\n",
      "False\n"
     ]
    }
   ],
   "source": [
    "print(setA | setB)\n",
    "print(setA.union(setB))\n",
    "print(setA & setB)\n",
    "print(setA.intersection(setB))\n",
    "print(setA - setB)\n",
    "print(setA.difference(setB))\n",
    "print(setA ^ setB)\n",
    "print(setA.symmetric_difference(setB))\n",
    "print(setA.isdisjoint(setB))"
   ]
  }
 ],
 "metadata": {
  "kernelspec": {
   "display_name": "DataTechProgramming",
   "language": "python",
   "name": "python3"
  },
  "language_info": {
   "codemirror_mode": {
    "name": "ipython",
    "version": 3
   },
   "file_extension": ".py",
   "mimetype": "text/x-python",
   "name": "python",
   "nbconvert_exporter": "python",
   "pygments_lexer": "ipython3",
   "version": "3.11.4"
  },
  "orig_nbformat": 4
 },
 "nbformat": 4,
 "nbformat_minor": 2
}
