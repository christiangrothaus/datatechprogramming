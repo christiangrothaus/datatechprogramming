{
 "cells": [
  {
   "cell_type": "markdown",
   "metadata": {},
   "source": [
    "(Class Average: Writing Student Records to a CSV File) An instructor teaches a class in which each student takes three exams. The instructor would like to store this information in a file named  for later use. Write code that enables an instructor to enter each student’s first name and last name as strings and the student’s three exam grades as integers. Use the  module to write each record into the  file. Each record should be a single line of text in the following CSV format:\n",
    "<p style=\"text-align: center;\">firstname,lastname,exam1grade,exam2grade,exam3grade</p>"
   ]
  },
  {
   "cell_type": "code",
   "execution_count": 35,
   "metadata": {},
   "outputs": [
    {
     "name": "stdout",
     "output_type": "stream",
     "text": [
      "hit\n"
     ]
    }
   ],
   "source": [
    "import csv\n",
    "import os\n",
    "\n",
    "if not os.path.exists('grades.csv'):\n",
    "    with open('grades.csv', 'w'): pass\n",
    "grades = open('grades.csv', mode = 'r+')\n",
    "grades_temp = open('grades_temp.csv', mode = 'a+', newline = '')\n",
    "\n",
    "with grades, grades_temp:\n",
    "  entryFound = False\n",
    "  writer = csv.writer(grades_temp)\n",
    "  reader = csv.reader(grades)\n",
    "  firstName = input('Enter first name: ')\n",
    "  lastName = input('Enter last name: ')\n",
    "  examOne = int(input('Enter exam 1 grade: '))\n",
    "  examTwo = int(input('Enter exam 2 grade: '))\n",
    "  examThree = int(input('Enter exam 3 grade: '))\n",
    "  average = (examOne + examTwo + examThree) / 3\n",
    "  for record in reader:\n",
    "    fName, lName = record[:2]\n",
    "    print(fName == firstName)\n",
    "    if fName == firstName and lName == lastName:\n",
    "      entryFound = True\n",
    "      writer.writerow([firstName, lastName, examOne, examTwo, examThree, average])\n",
    "    else:\n",
    "      writer.writerow(record)\n",
    "  if not entryFound:\n",
    "    writer.writerow([firstName, lastName, examOne, examTwo, examThree, average])\n",
    "\n",
    "\n",
    "os.remove('grades.csv')\n",
    "print('hit')\n",
    "os.rename('grades_temp.csv', 'grades.csv')\n",
    "\n"
   ]
  }
 ],
 "metadata": {
  "kernelspec": {
   "display_name": "DataTechProgramming",
   "language": "python",
   "name": "python3"
  },
  "language_info": {
   "codemirror_mode": {
    "name": "ipython",
    "version": 3
   },
   "file_extension": ".py",
   "mimetype": "text/x-python",
   "name": "python",
   "nbconvert_exporter": "python",
   "pygments_lexer": "ipython3",
   "version": "3.11.4"
  }
 },
 "nbformat": 4,
 "nbformat_minor": 2
}
